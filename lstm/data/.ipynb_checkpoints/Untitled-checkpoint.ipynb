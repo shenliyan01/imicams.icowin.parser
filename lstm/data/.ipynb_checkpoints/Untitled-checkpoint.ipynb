{
 "cells": [
  {
   "cell_type": "code",
   "execution_count": 46,
   "metadata": {
    "collapsed": true
   },
   "outputs": [],
   "source": [
    "from pprint import pprint\n",
    "import numpy as np\n",
    "import json"
   ]
  },
  {
   "cell_type": "code",
   "execution_count": 31,
   "metadata": {},
   "outputs": [],
   "source": [
    "# get sent_lint.txt for train\n",
    "f = open('./crf_1001_2000.txt')\n",
    "\n",
    "fout = open('./crf_1001_2000.sent_line.txt', 'w')\n",
    "\n",
    "sent = []\n",
    "for line in f:\n",
    "    line_list = line.strip().split()\n",
    "    if line_list == ['.', '.', '.', '.']:\n",
    "        if sent != []:\n",
    "            fout.write(' '.join(sent))\n",
    "            fout.write('\\n'.encode('utf8'))\n",
    "            sent = []\n",
    "    else:\n",
    "        sent.append(line_list[0] + '|' + line_list[-1])\n",
    "f.close()\n",
    "fout.close()\n",
    "\n"
   ]
  },
  {
   "cell_type": "code",
   "execution_count": 34,
   "metadata": {},
   "outputs": [
    {
     "name": "stdout",
     "output_type": "stream",
     "text": [
      "71\n"
     ]
    }
   ],
   "source": [
    "f = open('./crf_1001_2000.sent_line.txt')\n",
    "for idx, x in enumerate(f):\n",
    "    pass\n",
    "f.close()\n",
    "print(idx)"
   ]
  },
  {
   "cell_type": "code",
   "execution_count": 55,
   "metadata": {},
   "outputs": [
    {
     "name": "stdout",
     "output_type": "stream",
     "text": [
      "UNK\n",
      "PADDING\n",
      "450\n"
     ]
    }
   ],
   "source": [
    "word2idx = {}\n",
    "cnt = 2\n",
    "f = open('./crf_1001_2000.sent_line.txt')\n",
    "for line in f:\n",
    "    l = line.strip().split()\n",
    "    for word in l:\n",
    "        word = word.split('|')[0]\n",
    "        if word not in word2idx:\n",
    "            word2idx[word] = cnt\n",
    "            cnt += 1\n",
    "if 'UNK' not in word2idx:\n",
    "    word2idx['UNK'] = 1\n",
    "    print('UNK')\n",
    "if 'PADDING' not in word2idx:\n",
    "    word2idx['PADDING'] = 0\n",
    "    print('PADDING')\n",
    "f.close()\n",
    "import json\n",
    "s = json.dumps(word2idx, indent=4)\n",
    "fout = open('word2idx.json', 'w')\n",
    "fout.write(s)\n",
    "fout.close()\n",
    "print(cnt)"
   ]
  },
  {
   "cell_type": "code",
   "execution_count": 1,
   "metadata": {},
   "outputs": [
    {
     "ename": "NameError",
     "evalue": "name 'json' is not defined",
     "output_type": "error",
     "traceback": [
      "\u001b[0;31m---------------------------------------------------------------------------\u001b[0m",
      "\u001b[0;31mNameError\u001b[0m                                 Traceback (most recent call last)",
      "\u001b[0;32m<ipython-input-1-cb7bdea0347a>\u001b[0m in \u001b[0;36m<module>\u001b[0;34m()\u001b[0m\n\u001b[1;32m      9\u001b[0m             \u001b[0mlabel2idx\u001b[0m\u001b[0;34m[\u001b[0m\u001b[0mlabel\u001b[0m\u001b[0;34m]\u001b[0m \u001b[0;34m=\u001b[0m \u001b[0mcnt\u001b[0m\u001b[0;34m\u001b[0m\u001b[0m\n\u001b[1;32m     10\u001b[0m             \u001b[0mcnt\u001b[0m \u001b[0;34m+=\u001b[0m \u001b[0;36m1\u001b[0m\u001b[0;34m\u001b[0m\u001b[0m\n\u001b[0;32m---> 11\u001b[0;31m \u001b[0ms\u001b[0m \u001b[0;34m=\u001b[0m \u001b[0mjson\u001b[0m\u001b[0;34m.\u001b[0m\u001b[0mdumps\u001b[0m\u001b[0;34m(\u001b[0m\u001b[0mlabel2idx\u001b[0m\u001b[0;34m,\u001b[0m \u001b[0mindent\u001b[0m\u001b[0;34m=\u001b[0m\u001b[0;36m4\u001b[0m\u001b[0;34m)\u001b[0m\u001b[0;34m\u001b[0m\u001b[0m\n\u001b[0m\u001b[1;32m     12\u001b[0m \u001b[0mf\u001b[0m\u001b[0;34m.\u001b[0m\u001b[0mclose\u001b[0m\u001b[0;34m(\u001b[0m\u001b[0;34m)\u001b[0m\u001b[0;34m\u001b[0m\u001b[0m\n\u001b[1;32m     13\u001b[0m \u001b[0mfout\u001b[0m \u001b[0;34m=\u001b[0m \u001b[0mopen\u001b[0m\u001b[0;34m(\u001b[0m\u001b[0;34m'label2idx.json'\u001b[0m\u001b[0;34m,\u001b[0m \u001b[0;34m'w'\u001b[0m\u001b[0;34m)\u001b[0m\u001b[0;34m\u001b[0m\u001b[0m\n",
      "\u001b[0;31mNameError\u001b[0m: name 'json' is not defined"
     ]
    }
   ],
   "source": [
    "label2idx = {}\n",
    "cnt = 1\n",
    "f = open('./crf_1001_2000.sent_line.txt')\n",
    "for line in f:\n",
    "    l = line.strip().split()\n",
    "    for label in l:\n",
    "        label = label.split('|')[1]\n",
    "        if label not in label2idx:\n",
    "            label2idx[label] = cnt\n",
    "            cnt += 1\n",
    "s = json.dumps(label2idx, indent=4)\n",
    "f.close()\n",
    "fout = open('label2idx.json', 'w')\n",
    "fout.write(s)\n",
    "fout.close()\n",
    "print(cnt)"
   ]
  },
  {
   "cell_type": "code",
   "execution_count": null,
   "metadata": {
    "collapsed": true
   },
   "outputs": [],
   "source": []
  }
 ],
 "metadata": {
  "kernelspec": {
   "display_name": "Python 3",
   "language": "python",
   "name": "python3"
  },
  "language_info": {
   "codemirror_mode": {
    "name": "ipython",
    "version": 3
   },
   "file_extension": ".py",
   "mimetype": "text/x-python",
   "name": "python",
   "nbconvert_exporter": "python",
   "pygments_lexer": "ipython3",
   "version": "3.6.4"
  }
 },
 "nbformat": 4,
 "nbformat_minor": 2
}
